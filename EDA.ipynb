{
 "cells": [
  {
   "cell_type": "code",
   "execution_count": null,
   "metadata": {},
   "outputs": [],
   "source": [
    "import time\n",
    "\n",
    "import numpy as np\n",
    "import pandas as pd\n",
    "\n",
    "from pandas_profiling import ProfileReport\n",
    "\n",
    "import matplotlib.pyplot as plt\n",
    "import seaborn as sns"
   ]
  },
  {
   "cell_type": "code",
   "execution_count": null,
   "metadata": {},
   "outputs": [],
   "source": [
    "calendar_data = pd.read_csv('Data/calendar.csv')\n",
    "sales_data = pd.read_csv('Data/sales_train_validation.csv')\n",
    "weekly_sale_price_data = pd.read_csv('Data/sell_prices.csv')"
   ]
  },
  {
   "cell_type": "code",
   "execution_count": null,
   "metadata": {},
   "outputs": [],
   "source": [
    "calendar_data['date'] = pd.DatetimeIndex(calendar_data.date)"
   ]
  },
  {
   "cell_type": "code",
   "execution_count": null,
   "metadata": {},
   "outputs": [],
   "source": [
    "calendar_data.head(5)"
   ]
  },
  {
   "cell_type": "code",
   "execution_count": null,
   "metadata": {},
   "outputs": [],
   "source": [
    "calendar_data.d.max()"
   ]
  },
  {
   "cell_type": "code",
   "execution_count": null,
   "metadata": {},
   "outputs": [],
   "source": [
    "sales_data.head(10)"
   ]
  },
  {
   "cell_type": "code",
   "execution_count": null,
   "metadata": {},
   "outputs": [],
   "source": [
    "sales_data_long = pd.melt(sales_data, \n",
    "                          id_vars = sales_data.columns[:6], value_vars = sales_data.columns[6:], \n",
    "                          var_name = 'd', value_name = 'sales')"
   ]
  },
  {
   "cell_type": "code",
   "execution_count": null,
   "metadata": {},
   "outputs": [],
   "source": [
    "sales_data_long.head()"
   ]
  },
  {
   "cell_type": "code",
   "execution_count": null,
   "metadata": {},
   "outputs": [],
   "source": [
    "sales_data_long.shape"
   ]
  },
  {
   "cell_type": "code",
   "execution_count": null,
   "metadata": {},
   "outputs": [],
   "source": [
    "weekly_sale_price_data.head(5)"
   ]
  },
  {
   "cell_type": "code",
   "execution_count": null,
   "metadata": {},
   "outputs": [],
   "source": [
    "%%time\n",
    "calendar_profile = calendar_data.profile_report(title = 'M5 Forecasting - Calendar Data Profile', \n",
    "                                                pool_size = 2)\n",
    "calendar_profile.to_file(output_file = \"Calendar_Data_Profile.html\")"
   ]
  },
  {
   "cell_type": "code",
   "execution_count": null,
   "metadata": {},
   "outputs": [],
   "source": [
    "%%time\n",
    "sales_data_ids_profile = sales_data.iloc[:, :6].profile_report(title = 'M5 Forecasting - Sales Data IDs Profile',\n",
    "                                                                                       pool_size = 2)\n",
    "sales_data_ids_profile.to_file(output_file = \"Sales_Data_IDs_Profile.html\")"
   ]
  },
  {
   "cell_type": "code",
   "execution_count": null,
   "metadata": {},
   "outputs": [],
   "source": [
    "%%time\n",
    "sales_data_days_profile = sales_data.iloc[:, 6:].profile_report(title = 'M5 Forecasting - Sales Data Days Profile', \n",
    "                                                                pool_size = 2)\n",
    "sales_data_days_profile.to_file(output_file = \"Sales_Data_Days_Profile.html\")"
   ]
  },
  {
   "cell_type": "code",
   "execution_count": null,
   "metadata": {},
   "outputs": [],
   "source": [
    "%%time\n",
    "weekly_sale_price_data_profile = weekly_sale_price_data.profile_report(title = 'M5 Forecasting - Weekly Sale Price Data Profile', \n",
    "                                                                       pool_size = 2)\n",
    "weekly_sale_price_data_profile.to_file(output_file = \"Weekly_Sale_Price_Data_Profile.html\")"
   ]
  },
  {
   "cell_type": "markdown",
   "metadata": {},
   "source": [
    "### Calendar Data"
   ]
  },
  {
   "cell_type": "code",
   "execution_count": null,
   "metadata": {},
   "outputs": [],
   "source": [
    "calendar_data.head(10)"
   ]
  },
  {
   "cell_type": "code",
   "execution_count": null,
   "metadata": {},
   "outputs": [],
   "source": [
    "calendar_data['day_of_month'] = pd.DatetimeIndex(calendar_data.date).day"
   ]
  },
  {
   "cell_type": "code",
   "execution_count": null,
   "metadata": {},
   "outputs": [],
   "source": [
    "print('start date:', calendar_data.date.min())\n",
    "print('end date:', calendar_data.date.max())\n",
    "print('num days:', len(calendar_data))"
   ]
  },
  {
   "cell_type": "code",
   "execution_count": null,
   "metadata": {},
   "outputs": [],
   "source": [
    "print('Event Name 1:', calendar_data.event_name_1.unique())\n",
    "print('Event Type_1:', calendar_data.event_type_1.value_counts())"
   ]
  },
  {
   "cell_type": "code",
   "execution_count": null,
   "metadata": {},
   "outputs": [],
   "source": [
    "print('Event Name 2:', calendar_data.event_name_2.value_counts())\n",
    "print('Event Type_2:', calendar_data.event_type_2.value_counts())"
   ]
  },
  {
   "cell_type": "code",
   "execution_count": null,
   "metadata": {},
   "outputs": [],
   "source": [
    "first_year = calendar_data[calendar_data['date'] < '2012-01-29']\n",
    "first_year.groupby('day_of_month')[['snap_CA', 'snap_TX', 'snap_WI']].sum()"
   ]
  },
  {
   "cell_type": "markdown",
   "metadata": {},
   "source": [
    "### Sales Data"
   ]
  },
  {
   "cell_type": "code",
   "execution_count": null,
   "metadata": {},
   "outputs": [],
   "source": [
    "sales_data.head(10)"
   ]
  },
  {
   "cell_type": "code",
   "execution_count": null,
   "metadata": {},
   "outputs": [],
   "source": [
    "sales_data.shape"
   ]
  },
  {
   "cell_type": "code",
   "execution_count": null,
   "metadata": {},
   "outputs": [],
   "source": [
    "id_values = sales_data[['item_id', 'dept_id', 'cat_id', 'store_id', 'state_id']].drop_duplicates()"
   ]
  },
  {
   "cell_type": "code",
   "execution_count": null,
   "metadata": {},
   "outputs": [],
   "source": [
    "print('Categories:', id_values.cat_id.unique())\n",
    "print('Departments:', id_values.dept_id.unique())\n",
    "print('Stores:', id_values.store_id.unique())"
   ]
  },
  {
   "cell_type": "code",
   "execution_count": null,
   "metadata": {},
   "outputs": [],
   "source": [
    "id_values.groupby(['cat_id', 'dept_id']).item_id.nunique()"
   ]
  },
  {
   "cell_type": "code",
   "execution_count": null,
   "metadata": {},
   "outputs": [],
   "source": [
    "id_values.describe()"
   ]
  },
  {
   "cell_type": "code",
   "execution_count": null,
   "metadata": {},
   "outputs": [],
   "source": [
    "id_values.isnull().any()"
   ]
  },
  {
   "cell_type": "code",
   "execution_count": null,
   "metadata": {},
   "outputs": [],
   "source": [
    "any(sales_data.isna().any() == True)"
   ]
  },
  {
   "cell_type": "code",
   "execution_count": null,
   "metadata": {},
   "outputs": [],
   "source": [
    "any(sales_data.iloc[:, 6:].min() < 0)"
   ]
  }
 ],
 "metadata": {
  "kernelspec": {
   "display_name": "py37env",
   "language": "python",
   "name": "py37env"
  },
  "language_info": {
   "codemirror_mode": {
    "name": "ipython",
    "version": 3
   },
   "file_extension": ".py",
   "mimetype": "text/x-python",
   "name": "python",
   "nbconvert_exporter": "python",
   "pygments_lexer": "ipython3",
   "version": "3.7.3"
  }
 },
 "nbformat": 4,
 "nbformat_minor": 2
}
