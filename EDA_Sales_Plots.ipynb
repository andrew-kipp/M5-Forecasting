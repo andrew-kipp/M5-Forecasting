{
 "cells": [
  {
   "cell_type": "code",
   "execution_count": null,
   "metadata": {},
   "outputs": [],
   "source": [
    "import time\n",
    "\n",
    "import numpy as np\n",
    "import pandas as pd\n",
    "\n",
    "import matplotlib.pyplot as plt\n",
    "import seaborn as sns"
   ]
  },
  {
   "cell_type": "code",
   "execution_count": null,
   "metadata": {},
   "outputs": [],
   "source": [
    "calendar_data = pd.read_csv('Data/calendar.csv')\n",
    "sales_data = pd.read_csv('Data/sales_train_validation.csv')\n",
    "weekly_sale_price_data = pd.read_csv('Data/sell_prices.csv')"
   ]
  },
  {
   "cell_type": "code",
   "execution_count": null,
   "metadata": {},
   "outputs": [],
   "source": [
    "calendar_data['date'] = pd.DatetimeIndex(calendar_data.date)"
   ]
  },
  {
   "cell_type": "code",
   "execution_count": null,
   "metadata": {},
   "outputs": [],
   "source": [
    "sales_data_long = pd.melt(sales_data, \n",
    "                          id_vars = sales_data.columns[:6], value_vars = sales_data.columns[6:], \n",
    "                          var_name = 'd', value_name = 'sales')"
   ]
  },
  {
   "cell_type": "code",
   "execution_count": null,
   "metadata": {},
   "outputs": [],
   "source": [
    "print(sales_data_long.shape)\n",
    "sales_data_long.head()"
   ]
  },
  {
   "cell_type": "code",
   "execution_count": null,
   "metadata": {},
   "outputs": [],
   "source": [
    "complete_data = sales_data_long.join(calendar_data.set_index('d'), \n",
    "                                     on = ['d'], how='left')\n",
    "complete_data = complete_data.join(weekly_sale_price_data.set_index(['store_id', 'item_id', 'wm_yr_wk']), \n",
    "                                   on = ['store_id', 'item_id', 'wm_yr_wk'], how = 'left')"
   ]
  },
  {
   "cell_type": "code",
   "execution_count": null,
   "metadata": {},
   "outputs": [],
   "source": [
    "print(complete_data.shape)\n",
    "print(complete_data.columns)\n",
    "complete_data.head()"
   ]
  },
  {
   "cell_type": "code",
   "execution_count": null,
   "metadata": {},
   "outputs": [],
   "source": [
    "complete_data['d'] = complete_data.d.apply(lambda x: x.split('_')[1]).astype(int)\n",
    "complete_data['event_name_1'].fillna('', inplace = True)\n",
    "complete_data['event_type_1'].fillna('', inplace = True)\n",
    "complete_data['event_day'] = complete_data['event_name_1'].apply(lambda x: 0 if x == '' else 1)"
   ]
  },
  {
   "cell_type": "code",
   "execution_count": null,
   "metadata": {},
   "outputs": [],
   "source": [
    "d_max = complete_data['d'].max()\n",
    "complete_data_2 = complete_data[complete_data['d'] >= (d_max-365)]\n",
    "complete_data_2.shape"
   ]
  },
  {
   "cell_type": "code",
   "execution_count": null,
   "metadata": {},
   "outputs": [],
   "source": [
    "complete_data_2.head()"
   ]
  },
  {
   "cell_type": "code",
   "execution_count": null,
   "metadata": {},
   "outputs": [],
   "source": [
    "series_id = 'FOODS_1_011_CA_1_validation'\n",
    "    \n",
    "fig, axs = plt.subplots(nrows = 2, ncols = 2, figsize = (16, 8), sharex = True)\n",
    "sns.lineplot(x = \"date\", y = \"sales\", \n",
    "             data = complete_data_2[complete_data_2['id'] == series_id], \n",
    "             ax = axs[0, 0]).set_title('Sales')\n",
    "sns.lineplot(x = \"date\", y = \"sell_price\", \n",
    "             data = complete_data_2[complete_data_2['id'] == series_id], \n",
    "             ax = axs[0, 1]).set_title('Weekly Price')\n",
    "sns.lineplot(x = \"date\", y = \"event_day\", # hue=\"event_type_1\", \n",
    "             data = complete_data_2[complete_data_2['id'] == series_id], \n",
    "             ax = axs[1, 0]).set_title('Holidays')\n",
    "sns.lineplot(x = \"date\", y = \"sell_price\", \n",
    "             data = complete_data_2[complete_data_2['id'] == series_id], \n",
    "             ax = axs[1, 1]).set_title('Weekly Price')\n",
    "\n",
    "for ax in axs.flat:\n",
    "    for label in ax.get_xticklabels():\n",
    "        label.set_rotation(45)"
   ]
  },
  {
   "cell_type": "code",
   "execution_count": null,
   "metadata": {},
   "outputs": [],
   "source": []
  },
  {
   "cell_type": "code",
   "execution_count": null,
   "metadata": {},
   "outputs": [],
   "source": [
    "series_id = 'FOODS_1_021_CA_1_validation'"
   ]
  },
  {
   "cell_type": "code",
   "execution_count": null,
   "metadata": {},
   "outputs": [],
   "source": [
    "series_id = 'FOODS_1_031_CA_1_validation'"
   ]
  },
  {
   "cell_type": "code",
   "execution_count": null,
   "metadata": {},
   "outputs": [],
   "source": [
    "series_id = 'HOBBIES_1_011_CA_1_validation'"
   ]
  },
  {
   "cell_type": "code",
   "execution_count": null,
   "metadata": {},
   "outputs": [],
   "source": [
    "series_id = 'HOBBIES_1_021_CA_1_validation'"
   ]
  },
  {
   "cell_type": "code",
   "execution_count": null,
   "metadata": {},
   "outputs": [],
   "source": [
    "series_id = 'HOBBIES_1_031_CA_1_validation'"
   ]
  },
  {
   "cell_type": "code",
   "execution_count": null,
   "metadata": {},
   "outputs": [],
   "source": [
    "series_id = 'HOUSEHOLD_1_011_CA_1_validation'"
   ]
  },
  {
   "cell_type": "code",
   "execution_count": null,
   "metadata": {},
   "outputs": [],
   "source": [
    "series_id = 'HOUSEHOLD_1_021_CA_1_validation'"
   ]
  },
  {
   "cell_type": "code",
   "execution_count": null,
   "metadata": {},
   "outputs": [],
   "source": [
    "series_id = 'HOUSEHOLD_1_032_CA_1_validation'"
   ]
  }
 ],
 "metadata": {
  "kernelspec": {
   "display_name": "py37env",
   "language": "python",
   "name": "py37env"
  },
  "language_info": {
   "codemirror_mode": {
    "name": "ipython",
    "version": 3
   },
   "file_extension": ".py",
   "mimetype": "text/x-python",
   "name": "python",
   "nbconvert_exporter": "python",
   "pygments_lexer": "ipython3",
   "version": "3.7.3"
  }
 },
 "nbformat": 4,
 "nbformat_minor": 2
}
